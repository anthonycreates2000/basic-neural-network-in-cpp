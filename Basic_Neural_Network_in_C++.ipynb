{
  "nbformat": 4,
  "nbformat_minor": 0,
  "metadata": {
    "colab": {
      "provenance": []
    },
    "kernelspec": {
      "name": "python3",
      "display_name": "Python 3"
    },
    "language_info": {
      "name": "python"
    }
  },
  "cells": [
    {
      "cell_type": "markdown",
      "source": [
        "# Basic Neural Network in C++ with Google Colab\n",
        "\n",
        "Name: Anthony Kevin Oktavius"
      ],
      "metadata": {
        "id": "1QIGuh7PQKRq"
      }
    },
    {
      "cell_type": "markdown",
      "source": [
        "### Basic Code in C++\n",
        "\n",
        "Running a basic code in c++ from google colab.\n",
        "\n",
        "Code reference: https://cppsecrets.com/users/1102811497104117108109111104116975048484864103109971051084699111109/How-to-run-C-and-C00-on-Google-Colab.php"
      ],
      "metadata": {
        "id": "ZI7e9icWTUZA"
      }
    },
    {
      "cell_type": "code",
      "execution_count": 8,
      "metadata": {
        "colab": {
          "base_uri": "https://localhost:8080/"
        },
        "id": "vSyuYHyoPWS_",
        "outputId": "e38f347f-6b28-4d76-ebb7-a2bfea926fd8"
      },
      "outputs": [
        {
          "output_type": "stream",
          "name": "stdout",
          "text": [
            "Overwriting sample.cpp\n"
          ]
        }
      ],
      "source": [
        "%%writefile sample.cpp\n",
        "# include <iostream>\n",
        "\n",
        "using namespace std;\n",
        "\n",
        "int main(){\n",
        "    cout << \"Hello World!\" << std::endl;\n",
        "    return 0;\n",
        "}"
      ]
    },
    {
      "cell_type": "code",
      "source": [
        "%%shell\n",
        "g++ sample.cpp -o output\n",
        "./output"
      ],
      "metadata": {
        "colab": {
          "base_uri": "https://localhost:8080/"
        },
        "id": "GR2cwG8BSKgv",
        "outputId": "ebcc8e46-84f2-48d6-d077-f52324d3fb20"
      },
      "execution_count": 7,
      "outputs": [
        {
          "output_type": "stream",
          "name": "stdout",
          "text": [
            "Hello!\n"
          ]
        },
        {
          "output_type": "execute_result",
          "data": {
            "text/plain": []
          },
          "metadata": {},
          "execution_count": 7
        }
      ]
    },
    {
      "cell_type": "code",
      "source": [],
      "metadata": {
        "id": "f4DM7vLnTNKt"
      },
      "execution_count": null,
      "outputs": []
    }
  ]
}